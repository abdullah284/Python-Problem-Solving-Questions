{
  "cells": [
    {
      "cell_type": "markdown",
      "metadata": {
        "id": "YPstju-u13FD"
      },
      "source": [
        "Given a sequence of integers , a triplet(a[i], a[j], a[k])  is complementary if:\n",
        "\n",
        "*   i < j < k\n",
        "*   a[j] - a[i] = a[k] - a[j] = d\n",
        "\n",
        "\n",
        "Given an increasing sequence of integers and the value of d, count the number of complementary triplets in the sequence.\n",
        "\n",
        "Example\n",
        "\n",
        "*   array = [2,2,3,4,5]\n",
        "*   d = 1\n",
        "\n",
        "\n",
        "There are three complementary triplets, by index:[i,j,k] = [0,2,3], [1,2,3] , [2,3,4].\n",
        "To test the first triplet, array[i] - array[j] = 3 - 2 = 1\n",
        "and array[k] - array[j] = 4 - 3 =1\n",
        "\n",
        "\n",
        "\n",
        "\n"
      ]
    },
    {
      "cell_type": "markdown",
      "metadata": {
        "id": "yTvyh3sd38qH"
      },
      "source": [
        "\n",
        "\n",
        "**Function Description**\n",
        "\n",
        "\n",
        "Create a function: complementaryTriplets, which has the following input parameters:\n",
        "\n",
        "int d: the value to match\n",
        "int arr[n]: the sequence, sorted ascending\n",
        "\n",
        "\n",
        "It should return the following:\n",
        "\n",
        "int: the number of complementary triplets\n",
        "\n"
      ]
    },
    {
      "cell_type": "code",
      "execution_count": 3,
      "metadata": {
        "colab": {
          "base_uri": "https://localhost:8080/"
        },
        "id": "eFnpyR144CSg",
        "outputId": "5b0f90fe-7839-4cfa-fac0-b6afd3af2799"
      },
      "outputs": [
        {
          "data": {
            "text/plain": [
              "3"
            ]
          },
          "execution_count": 3,
          "metadata": {},
          "output_type": "execute_result"
        }
      ],
      "source": [
        "\n",
        "def complementaryTriplets(d, arr):\n",
        "    # Write your code here\n",
        "    pair1 = 0\n",
        "    pair2 = 0\n",
        "\n",
        "    count = 0\n",
        "\n",
        "    for i in range(len(arr)):\n",
        "        pair1 = arr[i] + d\n",
        "\n",
        "\n",
        "        for j in range(i+1, len(arr)):\n",
        "\n",
        "            if arr[j] == pair1:\n",
        "                pair2 = pair1+d\n",
        "                for k in range(j+1, len(arr)):\n",
        "                    if arr[k] == pair2:\n",
        "                        count += 1\n",
        "                    elif arr[k] > pair2:\n",
        "                        break\n",
        "\n",
        "            elif arr[j] > pair1:\n",
        "                break\n",
        "\n",
        "    return count\n",
        "\n",
        "\n",
        "\n",
        "complementaryTriplets(1, [2,2,3,4,5])\n",
        "\n"
      ]
    }
  ],
  "metadata": {
    "colab": {
      "provenance": []
    },
    "kernelspec": {
      "display_name": "Python 3",
      "name": "python3"
    },
    "language_info": {
      "name": "python"
    }
  },
  "nbformat": 4,
  "nbformat_minor": 0
}

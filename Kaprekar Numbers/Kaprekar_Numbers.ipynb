{
  "nbformat": 4,
  "nbformat_minor": 0,
  "metadata": {
    "colab": {
      "provenance": []
    },
    "kernelspec": {
      "name": "python3",
      "display_name": "Python 3"
    },
    "language_info": {
      "name": "python"
    }
  },
  "cells": [
    {
      "cell_type": "markdown",
      "source": [
        "A modified Kaprekar number is a positive whole number with a special property. If you square it, then split the number into two integers and sum those integers, you have the same value you started with.\n",
        "\n",
        "Consider a positive whole number n with d digits. We square n to arrive at a number that is either (2 x d) digits long or (2 x d)-1 digits long. Split the string representation of the square into two parts, l and r. The right hand part, r must be d digits long. The left is the remaining substring. Convert those two substrings back to integers, add them and see if you get n.\n",
        "\n",
        "Example:\n",
        "\n",
        "\n",
        "*   n = 5\n",
        "*   d = 1\n",
        "\n",
        "\n",
        "First calculate that (n x n) = 25 . Split that into two strings and convert them back to integers 2 and 5. Test 2 + 5 = 7 ≠ 5, so this is not a modified Kaprekar number. If n = 9, still d=1, and (n x n) = 81. This gives us 8 + 1 = 9, the original n.\n",
        "\n",
        "Note: r may have leading zeros."
      ],
      "metadata": {
        "id": "fAKAyI4ASGDX"
      }
    },
    {
      "cell_type": "markdown",
      "source": [
        "Given two positive integers p and q where p is lower than q, write a program to print the modified Kaprekar numbers in the range between p and q, inclusive. If no modified Kaprekar numbers exist in the given range, print INVALID RANGE.\n",
        "\n",
        "Function Description:\n",
        "\n",
        "Complete the kaprekarNumbers function in the editor below.\n",
        "\n",
        "kaprekarNumbers has the following parameter(s):\n",
        "\n",
        "\n",
        "*   int p: the lower limit\n",
        "*   int q: the upper limit\n",
        "\n",
        "\n",
        "\n",
        "\n",
        "\n",
        "\n",
        "Prints:\n",
        "\n",
        "\n",
        "\n",
        "\n",
        "\n",
        "*   It should print the list of modified Kaprekar numbers, space-separated on one line and in ascending order. If no modified Kaprekar numbers exist in the given range, print INVALID RANGE. No return value is required.\n",
        "\n",
        "\n",
        "\n",
        "\n",
        "\n"
      ],
      "metadata": {
        "id": "uJn0ExucSOnQ"
      }
    },
    {
      "cell_type": "code",
      "execution_count": 1,
      "metadata": {
        "id": "sMKu7sysSFoY"
      },
      "outputs": [],
      "source": [
        "def kaprekarNumbers(p, q):\n",
        "\n",
        "    arr = []\n",
        "\n",
        "    answer = \"\"\n",
        "\n",
        "    for i in range(p, q+1):\n",
        "      if isKaprekar(i):\n",
        "        arr.append(i)\n",
        "\n",
        "    for j in range(len(arr)):\n",
        "      answer = answer + str(arr[j]) + \" \"\n",
        "\n",
        "    if len(answer) == 0:\n",
        "        print(\"INVALID RANGE\")\n",
        "\n",
        "    print(answer)\n",
        "\n",
        "\n",
        "\n",
        "\n",
        "def isKaprekar(n):\n",
        "\n",
        "    n_squared = n*n\n",
        "\n",
        "    string_n_squared = str(n_squared)\n",
        "\n",
        "    length_n = len(str(n))\n",
        "    length_n_squared = len(str(n_squared))\n",
        "\n",
        "\n",
        "    if length_n == length_n_squared:\n",
        "        if n == n_squared:\n",
        "            return True\n",
        "        else:\n",
        "            return False\n",
        "\n",
        "    first_num_len = length_n_squared - length_n\n",
        "\n",
        "    first_number = \"\"\n",
        "    second_number = \"\"\n",
        "\n",
        "    for i in range(0, first_num_len):\n",
        "        first_number = first_number + string_n_squared[i]\n",
        "\n",
        "    for j in range(first_num_len, length_n_squared):\n",
        "        second_number = second_number + string_n_squared[j]\n",
        "\n",
        "    first_int = int(first_number)\n",
        "    second_int = int(second_number)\n",
        "\n",
        "\n",
        "    ans = first_int + second_int\n",
        "\n",
        "    if ans == n:\n",
        "      return True\n",
        "    else:\n",
        "      return False"
      ]
    },
    {
      "cell_type": "code",
      "source": [
        "kaprekarNumbers(1, 10000)"
      ],
      "metadata": {
        "colab": {
          "base_uri": "https://localhost:8080/"
        },
        "id": "0Nwd7xXeT-Py",
        "outputId": "efa5a199-c535-4be1-ff6f-ab15d9317af5"
      },
      "execution_count": 2,
      "outputs": [
        {
          "output_type": "stream",
          "name": "stdout",
          "text": [
            "1 9 45 55 99 297 703 999 2223 2728 4950 5050 7272 7777 9999 \n"
          ]
        }
      ]
    }
  ]
}
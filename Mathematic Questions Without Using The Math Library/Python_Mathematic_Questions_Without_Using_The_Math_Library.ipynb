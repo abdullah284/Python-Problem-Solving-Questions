{
  "cells": [
    {
      "cell_type": "markdown",
      "id": "48c87084",
      "metadata": {
        "id": "48c87084"
      },
      "source": [
        "### Maths Questions\n"
      ]
    },
    {
      "cell_type": "markdown",
      "id": "db520afe",
      "metadata": {
        "id": "db520afe"
      },
      "source": [
        "Please complete the following questions using '_vanilla_' Python, without help from any  libraries."
      ]
    },
    {
      "cell_type": "markdown",
      "id": "optical-chapel",
      "metadata": {
        "id": "optical-chapel"
      },
      "source": [
        "**Q1. Probability of a coin toss**\n",
        "\n",
        "Given a coin has probabilty `p` of landing heads up, define a function to calculate the probability of getting `n` heads in a row for some number `n`. Your function should return the probability\n",
        "\n",
        "Uncomment the function defined below and add your code to complete this question."
      ]
    },
    {
      "cell_type": "code",
      "execution_count": 1,
      "id": "cardiac-appraisal",
      "metadata": {
        "id": "cardiac-appraisal"
      },
      "outputs": [],
      "source": [
        "def head_tails(p,n):\n",
        "    answer = p\n",
        "    for i in range(1,n):\n",
        "        answer = answer * p\n",
        "\n",
        "    return answer\n",
        "\n",
        "\n"
      ]
    },
    {
      "cell_type": "markdown",
      "id": "tired-private",
      "metadata": {
        "id": "tired-private"
      },
      "source": [
        "**Q2. Calculating the mean**\n",
        "\n",
        "Given a list `data` containing a random amount of numbers, define a function that returns the mean of that list.\n",
        "\n",
        "Your function should raise a `ValueError` if the list is empty.\n",
        "\n",
        "Uncomment the function defined below and add your code to complete this question."
      ]
    },
    {
      "cell_type": "code",
      "execution_count": 2,
      "id": "solid-vancouver",
      "metadata": {
        "id": "solid-vancouver"
      },
      "outputs": [],
      "source": [
        "def calculate_mean(data):\n",
        "\n",
        "    if len(data) == 0:\n",
        "        raise ValueError\n",
        "\n",
        "    list_size = len(data)\n",
        "    sum = 0\n",
        "\n",
        "    for i in range(list_size):\n",
        "        sum = sum + data[i]\n",
        "\n",
        "    answer = sum / list_size\n",
        "\n",
        "    return answer\n",
        "\n",
        "\n",
        "\n"
      ]
    },
    {
      "cell_type": "markdown",
      "id": "ddf0ea04",
      "metadata": {
        "id": "ddf0ea04"
      },
      "source": [
        "**Q3. Calculating the standard deviation**\n",
        "\n",
        "Define a new function to calculate the standard deviation of the list `data`.\n",
        "\n",
        "**Hint:**  Your `calculate_mean` function from Q2 may be helpful\n",
        "\n",
        "Again your function should raise a `ValueError` if the list is empty.\n",
        "\n",
        "Uncomment the function defined below and add your code to complete this question."
      ]
    },
    {
      "cell_type": "code",
      "execution_count": null,
      "id": "86c0899b",
      "metadata": {
        "id": "86c0899b"
      },
      "outputs": [],
      "source": [
        "def calculate_standard_deviation(data):\n",
        "\n",
        "    if len(data) == 0:\n",
        "        raise ValueError\n",
        "\n",
        "\n",
        "    squared_difference_list = []\n",
        "\n",
        "    mean = calculate_mean(data)\n",
        "\n",
        "    for i in range(len(data)):\n",
        "\n",
        "        difference = data[i] - mean\n",
        "        squared_difference = difference * difference\n",
        "        squared_difference_list.append(squared_difference)\n",
        "\n",
        "    squared_difference_mean = calculate_mean(squared_difference_list)\n",
        "\n",
        "    answer = squared_difference_mean**(0.5)  #this format calculates the square root of the variable squared_difference_mean\n",
        "\n",
        "\n",
        "    return answer\n",
        "\n",
        "\n"
      ]
    },
    {
      "cell_type": "markdown",
      "id": "e0ece4ac",
      "metadata": {
        "id": "e0ece4ac"
      },
      "source": [
        "**Q4. Calculating the derivative**\n",
        "\n",
        "Given the following equation:\n",
        "\n",
        "\\begin{equation*}\n",
        "f(x) = w1 * x^3 + w2 * x - 1\n",
        "\\end{equation*}\n",
        "\n",
        "define a function that calculates the derivative of  $f$ with respect to $x$\n",
        "\n",
        "Your solution should contain the unknown variable $w1$ and $w2$.\n",
        "\n",
        "Uncomment the function defined below and add your code to complete this question."
      ]
    },
    {
      "cell_type": "code",
      "execution_count": null,
      "id": "14f09177",
      "metadata": {
        "id": "14f09177"
      },
      "outputs": [],
      "source": [
        "def derivative(w1, w2, x):\n",
        "\n",
        "    w1 = w1*3\n",
        "\n",
        "    answer = w1*x*x + w2\n",
        "\n",
        "    return answer\n",
        "\n",
        ""
      ]
    },
    {
      "cell_type": "markdown",
      "id": "942a5557",
      "metadata": {
        "id": "942a5557"
      },
      "source": [
        "**Q5. Linear Algebra. Calculating the dot product**\n",
        "\n",
        "Given two vectors (one-dimensional arrays e.g. `[1,2,3]`) of the same length `u` and `v`  define a function that calculates the dot product of the two vectors.\n",
        "\n",
        "Uncomment the function defined below and add your code to complete this question."
      ]
    },
    {
      "cell_type": "code",
      "execution_count": null,
      "id": "8ec2b574",
      "metadata": {
        "id": "8ec2b574"
      },
      "outputs": [],
      "source": [
        "def dot_product(u, v):\n",
        "\n",
        "    sum = 0\n",
        "\n",
        "    for i in range(len(u)):\n",
        "        u[i] = u[i] * v[i]\n",
        "\n",
        "    for j in range(len(u)):\n",
        "        sum = sum + u[j]\n",
        "\n",
        "    return sum\n",
        "\n",
        ""
      ]
    },
    {
      "cell_type": "markdown",
      "id": "perceived-power",
      "metadata": {
        "id": "perceived-power"
      },
      "source": [
        "### Programming Questions"
      ]
    },
    {
      "cell_type": "markdown",
      "id": "a04250d9",
      "metadata": {
        "id": "a04250d9"
      },
      "source": [
        "**Q1. Making a profit**\n",
        "\n",
        "For this question, you will need to implement a function that computes the minimum number of units that need to be manufactured by a factory for their process to be profitable or break even.\n",
        "\n",
        "We assume that each unit manufactured is sold at the `sell_price` and has a cost to manufacture, the `cost_per_unit`. In addition you will need to take into account the constant costs associated with running the factory, the `fixed_cost`.\n",
        "   \n",
        "\n",
        "Your goal is to find how many units need to be built and sold in order for the total cost to be entirely covered by sales. Your function should output this number of units.\n",
        "\n",
        "\n",
        "For example for  `minimum_profitable_volume(sell_price, fixed_cost, cost_per_unit)`\n",
        "we would have the following output:\n",
        "\n",
        "* `minimum_profitable_volume(1020, 1000, 20)` returns `1`\n",
        "* `minimum_profitable_volume(1019, 1000, 20)` return `2`\n",
        "* `minimum_profitable_volume(30, 1000, 20)` returns  `100`\n",
        "\n",
        "**Note**: It isn't sustainable for the factory to sell a unit at a lower price than its manufacturing cost as it wouldn't make any profit. If that is the case and you cannot be profitable, your function should return `None`.\n",
        "\n",
        "   \n",
        "Uncomment the function defined below and add your code to complete this question."
      ]
    },
    {
      "cell_type": "code",
      "execution_count": null,
      "id": "a96956bc",
      "metadata": {
        "id": "a96956bc"
      },
      "outputs": [],
      "source": [
        "def minimum_profitable_volume(sell_price, fixed_cost, cost_per_unit):\n",
        "\n",
        "    if sell_price < cost_per_unit:\n",
        "        return None\n",
        "\n",
        "    total_units = 0\n",
        "\n",
        "    difference = sell_price - cost_per_unit\n",
        "\n",
        "    total_units = -(-fixed_cost // difference) # this format calculates the ceil value of total_units in case it is a decimal number\n",
        "\n",
        "    return total_units\n"
      ]
    }
  ],
  "metadata": {
    "kernelspec": {
      "display_name": "Python 3 (ipykernel)",
      "language": "python",
      "name": "python3"
    },
    "language_info": {
      "codemirror_mode": {
        "name": "ipython",
        "version": 3
      },
      "file_extension": ".py",
      "mimetype": "text/x-python",
      "name": "python",
      "nbconvert_exporter": "python",
      "pygments_lexer": "ipython3",
      "version": "3.9.12"
    },
    "colab": {
      "provenance": []
    }
  },
  "nbformat": 4,
  "nbformat_minor": 5
}
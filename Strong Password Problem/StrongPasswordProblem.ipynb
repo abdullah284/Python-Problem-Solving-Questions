{
  "nbformat": 4,
  "nbformat_minor": 0,
  "metadata": {
    "colab": {
      "provenance": []
    },
    "kernelspec": {
      "name": "python3",
      "display_name": "Python 3"
    },
    "language_info": {
      "name": "python"
    }
  },
  "cells": [
    {
      "cell_type": "markdown",
      "source": [
        "Louise joined a social networking site to stay in touch with her friends. The signup page required her to input a name and a password. However, the password must be strong. The website considers a password to be strong if it satisfies the following criteria:\n",
        "\n",
        "\n",
        "\n",
        "*   Its length is at least 6.\n",
        "\n",
        "*   It contains at least one digit.\n",
        "\n",
        "*   It contains at least one lowercase English character.\n",
        "\n",
        "*   It contains at least one uppercase English character.\n",
        "\n",
        "*   It contains at least one special character. The special characters are: !@#$%^&*()-+\n",
        "\n",
        "\n",
        "She typed a random string of length  in the password field but wasn't sure if it was strong. Given the string she typed, can you find the minimum number of characters she must add to make her password strong?\n",
        "\n",
        "\n",
        "Example\n",
        "\n",
        "password = '2bbbb'\n",
        "\n",
        "This password is 5 characters long and is missing an uppercase and a special character. The minimum number of characters to add is 1.\n",
        "\n",
        "\n",
        "password = '2bb#A'\n",
        "\n",
        "This password is 5 characters long and has at least one of each character type. The minimum number of characters to add is 1.\n",
        "\n",
        "\n",
        "\n",
        "Function Description\n",
        "\n",
        "Complete the minimumNumber function in the editor below.\n",
        "\n",
        "minimumNumber has the following parameters:\n",
        "*   string password: the password to test\n",
        "\n",
        "\n",
        "\n",
        "\n",
        "\n",
        "Returns:\n",
        "\n",
        "\n",
        "*   int: the minimum number of characters to add\n",
        "\n",
        "Constraints:\n",
        "\n",
        "\n",
        "\n",
        "*   All characters in  are in [a-z], [A-Z], [0-9], or [!@#$%^&*()-+ ].\n",
        "\n",
        "\n",
        "\n"
      ],
      "metadata": {
        "id": "nGCDgeYHOXCc"
      }
    },
    {
      "cell_type": "code",
      "execution_count": 10,
      "metadata": {
        "id": "6_G2EP1ROVQ-"
      },
      "outputs": [],
      "source": [
        "\n",
        "def minimumNumber(password):\n",
        "    # Return the minimum number of characters to make the password strong\n",
        "    pwd = list(password)\n",
        "\n",
        "    no_of_chars = len(pwd)\n",
        "\n",
        "    numbers = \"0123456789\"\n",
        "    numbers = list(numbers)\n",
        "    number_found = False\n",
        "\n",
        "    lower_case = \"abcdefghijklmnopqrstuvwxyz\"\n",
        "    lower_case = list(lower_case)\n",
        "    lower_found = False\n",
        "\n",
        "    upper_case = \"ABCDEFGHIJKLMNOPQRSTUVWXYZ\"\n",
        "    uppercase = list(upper_case)\n",
        "    upper_found = False\n",
        "\n",
        "    special_characters = \"!@#$%^&*()-+\"\n",
        "    special_char = list(special_characters)\n",
        "    special_found = False\n",
        "\n",
        "\n",
        "    for i in range(len(pwd)):\n",
        "        if pwd[i] in numbers:\n",
        "            number_found = True\n",
        "        elif pwd[i] in lower_case:\n",
        "            lower_found = True\n",
        "        elif pwd[i] in upper_case:\n",
        "            upper_found = True\n",
        "        elif pwd[i] in special_char:\n",
        "            special_found = True\n",
        "\n",
        "    count = 0\n",
        "\n",
        "    if number_found == False:\n",
        "        count += 1\n",
        "    if upper_found == False:\n",
        "        count += 1\n",
        "    if lower_found == False:\n",
        "        count += 1\n",
        "    if special_found == False:\n",
        "        count += 1\n",
        "\n",
        "    minimum_chars_needed = 6 - no_of_chars\n",
        "\n",
        "\n",
        "    if count > minimum_chars_needed:\n",
        "        return count\n",
        "    else:\n",
        "        return minimum_chars_needed\n",
        ""
      ]
    },
    {
      "cell_type": "code",
      "source": [
        "minimumNumber(\"0A+\")"
      ],
      "metadata": {
        "colab": {
          "base_uri": "https://localhost:8080/"
        },
        "id": "4SZNNuu4QPky",
        "outputId": "f04ffce0-454d-479a-a92f-1aa3fe1ca959"
      },
      "execution_count": 11,
      "outputs": [
        {
          "output_type": "execute_result",
          "data": {
            "text/plain": [
              "3"
            ]
          },
          "metadata": {},
          "execution_count": 11
        }
      ]
    }
  ]
}